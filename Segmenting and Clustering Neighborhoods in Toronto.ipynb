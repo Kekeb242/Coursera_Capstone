{
    "cells": [
        {
            "cell_type": "markdown",
            "metadata": {
                "collapsed": true
            },
            "source": "# Segmenting and Clustering Neighborhoods in Toronto"
        },
        {
            "cell_type": "code",
            "execution_count": null,
            "metadata": {},
            "outputs": [],
            "source": "import pandas as pd \nimport numpy as np\n!pip install beautifulsoup4\n!pip install lxml\nimport requests \nimport random "
        },
        {
            "cell_type": "code",
            "execution_count": null,
            "metadata": {
                "scrolled": true
            },
            "outputs": [],
            "source": "from geopy.geocoders import Nominatim\nfrom IPython.display import Image \nfrom IPython.core.display import HTML \nfrom IPython.display import display_html\nimport pandas as pd\nimport numpy as np\nfrom pandas.io.json import json_normalize\n\n!conda install -c conda-forge folium=0.5.0 --yes"
        },
        {
            "cell_type": "code",
            "execution_count": null,
            "metadata": {},
            "outputs": [],
            "source": "import folium # plotting library\nfrom bs4 import BeautifulSoup\n\nprint('Folium installed')\nprint('Libraries imported.')"
        },
        {
            "cell_type": "code",
            "execution_count": null,
            "metadata": {},
            "outputs": [],
            "source": "source = requests.get('https://en.wikipedia.org/wiki/List_of_postal_codes_of_Canada:_M').text\nbs=BeautifulSoup(source,'lxml')"
        },
        {
            "cell_type": "code",
            "execution_count": null,
            "metadata": {},
            "outputs": [],
            "source": "import matplotlib.cm as cm\nimport matplotlib.colors as colors\nprint ('Matplotlib Libraries imported')"
        },
        {
            "cell_type": "code",
            "execution_count": null,
            "metadata": {},
            "outputs": [],
            "source": "from sklearn.cluster import KMeans"
        },
        {
            "cell_type": "code",
            "execution_count": null,
            "metadata": {},
            "outputs": [],
            "source": "from IPython.display import display_html\ntab = str(bs.table)\ndisplay_html(tab,raw=True)"
        },
        {
            "cell_type": "code",
            "execution_count": null,
            "metadata": {},
            "outputs": [],
            "source": "# Convert table to pandas dataframe\ndfs = pd.read_html(tab)\ndf=dfs[0]"
        },
        {
            "cell_type": "code",
            "execution_count": null,
            "metadata": {},
            "outputs": [],
            "source": "# Cleaning Data\ndf_d = df[df.Borough != 'Not assigned']\n\ndf_c = df_d.groupby(['Postal Code','Borough'], sort=False).agg(', '.join)\ndf_c.reset_index(inplace=True)\n\ndf_c['Neighborhood'] = np.where(df_c['Neighborhood'] == 'Not assigned',df_c['Borough'], df_c['Neighborhood'])\n\ndf_c.head(12)"
        },
        {
            "cell_type": "code",
            "execution_count": null,
            "metadata": {},
            "outputs": [],
            "source": "df_c.shape"
        },
        {
            "cell_type": "code",
            "execution_count": null,
            "metadata": {},
            "outputs": [],
            "source": "# Importing the csv file conatining the latitudes and longitudes\nlat_lon = pd.read_csv('https://cocl.us/Geospatial_data')\nlat_lon.head()"
        },
        {
            "cell_type": "code",
            "execution_count": null,
            "metadata": {},
            "outputs": [],
            "source": "# Merging the tables to the Latitudes and Longitudes table\ndf_m = pd.merge(df_c,lat_lon,on='Postal Code')\ndf_m.head()"
        },
        {
            "cell_type": "code",
            "execution_count": null,
            "metadata": {},
            "outputs": [],
            "source": "# The rows with key word Toronto.\ndf_t = df_m[df_m['Borough'].str.contains('Toronto',regex=False)]\ndf_t"
        },
        {
            "cell_type": "code",
            "execution_count": null,
            "metadata": {},
            "outputs": [],
            "source": "#Visualizing all the Neighbourhoods of the above data frame using Folium\nToronto_m = folium.Map(location=[43.651070,-79.347015],zoom_start=10)\n\nfor lat,lng,Borough,Neighborhood in zip(df_t['Latitude'],df_t['Longitude'],df_t['Borough'],df_t['Neighborhood']):\n    label = '{}, {}'.format(Neighborhood, Borough)\n    label = folium.Popup(label, parse_html=True)\n    folium.CircleMarker(\n    [lat,lng],\n    radius=5,\n    popup=label,\n    color='blue',\n    fill=True,\n    fill_color='#3186cc',\n    fill_opacity=0.7,\n    parse_html=False).add_to(Toronto_m)\nToronto_m"
        },
        {
            "cell_type": "code",
            "execution_count": null,
            "metadata": {
                "scrolled": true
            },
            "outputs": [],
            "source": "#KMeans clustering for the neighbourhoods\nk=5\nclustert = df_t.drop(['Postal Code','Borough','Neighborhood'],1)\nkmeans = KMeans(n_clusters = k,random_state=0).fit(clustert)\nkmeans.labels_"
        },
        {
            "cell_type": "code",
            "execution_count": null,
            "metadata": {},
            "outputs": [],
            "source": "df_t.drop([\"C Labels\"], axis = 1, inplace = True) \ndf_t"
        },
        {
            "cell_type": "code",
            "execution_count": null,
            "metadata": {},
            "outputs": [],
            "source": "# create map\nclusm = folium.Map(location=[43.651070,-79.347015],zoom_start=10)\n\n# set color scheme for the clusters\nx = np.arange(k)\nys = [i + x + (i*x)**2 for i in range(k)]\ncolors_array = cm.rainbow(np.linspace(0, 1, len(ys)))\nrainbow = [colors.rgb2hex(i) for i in colors_array]\n\n# Markers\nmarkers_colors = []\nfor lat, lon, Neighborhood, cluster in zip(df_t['Latitude'], df_t['Longitude'], df_t['Neighborhood'], df_t['Cluster Labels']):\n    label = folium.Popup(' Cluster ' + str(cluster), parse_html=True)\n    folium.CircleMarker(\n        [lat, lon],\n        radius=5,\n        popup=label,\n        color=rainbow[cluster-1],\n        fill=True,\n        fill_color=rainbow[cluster-1],\n        fill_opacity=0.7).add_to(clusm)\n       \nclusm"
        }
    ],
    "metadata": {
        "kernelspec": {
            "display_name": "Python 3.6",
            "language": "python",
            "name": "python3"
        },
        "language_info": {
            "codemirror_mode": {
                "name": "ipython",
                "version": 3
            },
            "file_extension": ".py",
            "mimetype": "text/x-python",
            "name": "python",
            "nbconvert_exporter": "python",
            "pygments_lexer": "ipython3",
            "version": "3.6.9"
        }
    },
    "nbformat": 4,
    "nbformat_minor": 1
}